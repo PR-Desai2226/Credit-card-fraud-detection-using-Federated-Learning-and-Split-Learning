{
  "nbformat": 4,
  "nbformat_minor": 0,
  "metadata": {
    "colab": {
      "name": "Fed_Split_Learning.ipynb",
      "provenance": [],
      "collapsed_sections": [
        "8XQIiw1n7Xl6",
        "RtdMQSJ-7E88",
        "IAkwkmAoNgYW",
        "NhrJP3nDQFAi"
      ]
    },
    "kernelspec": {
      "name": "python3",
      "display_name": "Python 3"
    },
    "language_info": {
      "name": "python"
    }
  },
  "cells": [
    {
      "cell_type": "code",
      "metadata": {
        "id": "6z0RHAqVA5eq"
      },
      "source": [
        "import os\n",
        "import random\n",
        "from tqdm import tqdm\n",
        "import numpy as np\n",
        "import torch, torchvision\n",
        "import torch as T\n",
        "import torch.nn as nn\n",
        "import torch.nn.functional as F\n",
        "import torch.optim as optim\n",
        "from torchvision import datasets, transforms\n",
        "from torch.utils.data.dataset import Dataset   "
      ],
      "execution_count": null,
      "outputs": []
    },
    {
      "cell_type": "code",
      "metadata": {
        "id": "AEJVfby3A8Sm"
      },
      "source": [
        "from google.colab import drive\n",
        "drive.mount('/content/drive')"
      ],
      "execution_count": null,
      "outputs": []
    },
    {
      "cell_type": "code",
      "metadata": {
        "id": "pGNridinDFzH"
      },
      "source": [
        "import pandas as pd\n",
        "from numpy import vstack\n",
        "from sklearn.metrics import accuracy_score\n",
        "from sklearn.metrics import precision_score, recall_score, f1_score, confusion_matrix\n",
        "from torch.optim import SGD\n",
        "from torch.nn import BCELoss"
      ],
      "execution_count": null,
      "outputs": []
    },
    {
      "cell_type": "code",
      "metadata": {
        "id": "uWYhFYWY8bL5"
      },
      "source": [
        "class PeopleDataset(T.utils.data.Dataset):\n",
        "    def __init__(self, src_file, num_rows=None):\n",
        "        df = pd.read_csv(src_file)\n",
        "        df.drop(df.columns[[0]], axis=1, inplace=True)\n",
        "        print(df.columns)\n",
        "        df.Class = df.Class.astype('float64')\n",
        "        y_tmp = df['Class'].values\n",
        "        x_tmp = df.drop('Class', axis=1).values\n",
        "                \n",
        "\n",
        "        self.x_data = T.tensor(x_tmp,dtype=T.float64).to(device)\n",
        "        self.y_data = T.tensor(y_tmp,dtype=T.float64).to(device)\n",
        "\n",
        "        print(type(self.x_data))\n",
        "        print(len(self.x_data))\n",
        "\n",
        "    def __len__(self):\n",
        "        return len(self.x_data)\n",
        "\n",
        "    def __getitem__(self, idx):\n",
        "        if T.is_tensor(idx):\n",
        "            idx = idx.tolist()\n",
        "        preds = self.x_data[idx].type(T.FloatTensor)\n",
        "        pol = self.y_data[idx].type(T.LongTensor)\n",
        "        sample = [preds, pol]\n",
        "        return sample\n"
      ],
      "execution_count": null,
      "outputs": []
    },
    {
      "cell_type": "code",
      "metadata": {
        "id": "ersrxx9j8hmz"
      },
      "source": [
        "class MLPUpdated(nn.Module):\n",
        "    def __init__(self):\n",
        "        super().__init__()\n",
        "        self.layers = nn.Sequential(\n",
        "            nn.Linear(30, 32),\n",
        "            nn.ReLU(),\n",
        "            nn.Dropout(0.2),\n",
        "            nn.Linear(32,16),\n",
        "            nn.ReLU(),\n",
        "            nn.Dropout(0.1),\n",
        "            nn.Linear(16, 8),\n",
        "            nn.ReLU(),\n",
        "            nn.Linear(8, 1),\n",
        "            nn.Sigmoid()\n",
        "        )\n",
        "\n",
        "    def forward(self, x):\n",
        "        return self.layers(x)"
      ],
      "execution_count": null,
      "outputs": []
    },
    {
      "cell_type": "code",
      "metadata": {
        "id": "H4vAMjyLDXQ5"
      },
      "source": [
        "fed_acc, fed_pre, fed_recall, fed_f1 = list(), list(), list(), list()\n",
        "reg_acc, reg_pre, reg_recall, reg_f1 = list(), list(), list(), list()\n",
        "split_acc, split_pre, split_recall, split_f1 = list(), list(), list(), list()"
      ],
      "execution_count": null,
      "outputs": []
    },
    {
      "cell_type": "code",
      "metadata": {
        "id": "Il8ltSre4mtT"
      },
      "source": [
        "mp = {}"
      ],
      "execution_count": null,
      "outputs": []
    },
    {
      "cell_type": "markdown",
      "metadata": {
        "id": "8XQIiw1n7Xl6"
      },
      "source": [
        "# Federated Learning"
      ]
    },
    {
      "cell_type": "code",
      "metadata": {
        "id": "hipHaZBKBesg"
      },
      "source": [
        "# Can be changed to 12,16,24,32\n",
        "num_clients = 32\n",
        "# Change it to 3, 6, 10, 16\n",
        "num_selected = 16\n",
        "num_rounds = 50\n",
        "epochs = 5\n",
        "batch_size = 1024\n",
        "device = \"cpu\"\n",
        "device = torch.device(device)\n",
        "fed_acc, fed_pre, fed_recall, fed_f1 = list(), list(), list(), list()"
      ],
      "execution_count": null,
      "outputs": []
    },
    {
      "cell_type": "code",
      "metadata": {
        "id": "DnTq8-HtCJ5J"
      },
      "source": [
        "# Dividing the training data into num_clients, with each client having equal number of data\n",
        "traindata = PeopleDataset('/content/drive/MyDrive/Credit Card Fraud Detection Dataset/creditcard_train_SMOTE_1.csv')\n",
        "print(len(traindata))\n",
        "traindata_split = torch.utils.data.random_split(traindata, [int(len(traindata) / num_clients) for _ in range(num_clients)])\n",
        "train_loader = [torch.utils.data.DataLoader(x, batch_size=batch_size, shuffle=True) for x in traindata_split]\n",
        "\n",
        "\n",
        "test_file = '/content/drive/MyDrive/Credit Card Fraud Detection Dataset/creditcard_test.csv'\n",
        "test_ds = PeopleDataset(test_file)\n",
        "test_loader = T.utils.data.DataLoader(test_ds,batch_size=batch_size, shuffle=True)"
      ],
      "execution_count": null,
      "outputs": []
    },
    {
      "cell_type": "code",
      "metadata": {
        "id": "5PyRHfDOMAjM"
      },
      "source": [
        "def client_update(client_model, optimizer, train_loader, epoch=5):\n",
        "    \"\"\"\n",
        "    This function updates/trains client model on client data\n",
        "    \"\"\"\n",
        "    model.train()\n",
        "    for e in range(epoch):\n",
        "        for batch_idx, (data, target) in enumerate(train_loader):\n",
        "            data, target = data.to(device), target.to(device)\n",
        "            optimizer.zero_grad()\n",
        "            output = client_model(data)\n",
        "            binary_loss = torch.nn.BCEWithLogitsLoss()\n",
        "            target = target.unsqueeze(1)\n",
        "            target = target.float()\n",
        "            loss = binary_loss(output, target)\n",
        "            loss.backward()\n",
        "            optimizer.step()\n",
        "    return loss.item()"
      ],
      "execution_count": null,
      "outputs": []
    },
    {
      "cell_type": "code",
      "metadata": {
        "id": "7anp6UT1Mas3"
      },
      "source": [
        "def server_aggregate(global_model, client_models):\n",
        "    \"\"\"\n",
        "    This function has aggregation method 'mean'\n",
        "    \"\"\"\n",
        "    ### This will take simple mean of the weights of models ###\n",
        "    global_dict = global_model.state_dict()\n",
        "    for k in global_dict.keys():\n",
        "        global_dict[k] = torch.stack([client_models[i].state_dict()[k].float() for i in range(len(client_models))], 0).mean(0)\n",
        "    global_model.load_state_dict(global_dict)\n",
        "    for model in client_models:\n",
        "        model.load_state_dict(global_model.state_dict())"
      ],
      "execution_count": null,
      "outputs": []
    },
    {
      "cell_type": "code",
      "metadata": {
        "id": "rUjW5xSrPTfw"
      },
      "source": [
        "def test(global_model, test_loader):\n",
        "    \"\"\"This function test the global model on test data and returns test loss and test accuracy \"\"\"\n",
        "    model.eval()\n",
        "    test_loss = 0\n",
        "    correct = 0\n",
        "    actuals, predictions = list(), list()\n",
        "    with torch.no_grad():\n",
        "        for data, target in test_loader:\n",
        "            data, target = data.to(device), target.to(device)\n",
        "            output = global_model(data)\n",
        "            binary_loss = torch.nn.BCEWithLogitsLoss()\n",
        "            target = target.unsqueeze(1)\n",
        "            target = target.float()\n",
        "            test_loss += binary_loss(output, target)\n",
        "            pred = output.argmax(dim=1, keepdim=True)  # get the index of the max log-probability\n",
        "            correct += pred.eq(target.view_as(pred)).sum().item()\n",
        "            actual = target.numpy()\n",
        "            pr = output.detach().numpy()\n",
        "            pr = pr.round()\n",
        "            predictions.append(pr)\n",
        "            actuals.append(actual)\n",
        "\n",
        "    test_loss /= len(test_loader.dataset)\n",
        "    predictions, actuals = vstack(predictions), vstack(actuals)\n",
        "    # calculate accuracy\n",
        "    acc = accuracy_score(actuals, predictions)\n",
        "    # calculate precision\n",
        "    prescision = precision_score(actuals, predictions)\n",
        "    # calculate recall\n",
        "    recall = recall_score(actuals, predictions)\n",
        "    # calculate f1\n",
        "    f1 = f1_score(actuals, predictions)\n",
        "    fed_acc.append(acc)\n",
        "    fed_pre.append(prescision)\n",
        "    fed_recall.append(recall)\n",
        "    fed_f1.append(f1)\n",
        "    print()\n",
        "    print(confusion_matrix(actuals, predictions))\n",
        "    return test_loss, acc, prescision, recall, f1\n",
        "  "
      ],
      "execution_count": null,
      "outputs": []
    },
    {
      "cell_type": "code",
      "metadata": {
        "id": "IQWqMnH2PYzi"
      },
      "source": [
        "###########################################\n",
        "#### Initializing models and optimizer  ####\n",
        "############################################\n",
        "\n",
        "#### global model ##########\n",
        "# global_model =  MLPUpdated().cuda()\n",
        "global_model = MLPUpdated().to(device)\n",
        "\n",
        "############## client models ##############\n",
        "# client_models = [ MLPUpdated().cuda() for _ in range(num_selected)]\n",
        "client_models = [ MLPUpdated().to(device) for _ in range(num_selected)]\n",
        "for model in client_models:\n",
        "    model.load_state_dict(global_model.state_dict()) ### initial synchronizing with global model \n",
        "\n",
        "############### optimizers ################\n",
        "opt = [optim.SGD(model.parameters(), lr=0.01) for model in client_models]"
      ],
      "execution_count": null,
      "outputs": []
    },
    {
      "cell_type": "code",
      "metadata": {
        "id": "sotCulZbSmQd"
      },
      "source": [
        "print(len(fed_acc))\n",
        "print(len(fed_pre))\n",
        "print(len(fed_recall))\n",
        "print(len(fed_f1))"
      ],
      "execution_count": null,
      "outputs": []
    },
    {
      "cell_type": "code",
      "metadata": {
        "id": "2h-DRR3FQfpk"
      },
      "source": [
        "###### List containing info about learning #########\n",
        "losses_train = []\n",
        "losses_test = []\n",
        "acc_train = []\n",
        "acc_test = []\n",
        "# Runnining FL\n",
        "\n",
        "import time\n",
        "start_time = time.time()\n",
        "for r in range(num_rounds):\n",
        "    # select random clients\n",
        "    client_idx = np.random.permutation(num_clients)[:num_selected]\n",
        "    # client update\n",
        "    loss = 0\n",
        "    for i in tqdm(range(num_selected)):\n",
        "        loss += client_update(client_models[i], opt[i], train_loader[client_idx[i]], epoch=epochs)\n",
        "    \n",
        "    losses_train.append(loss)\n",
        "    # server aggregate\n",
        "    server_aggregate(global_model, client_models)\n",
        "    \n",
        "    test_loss, acc, prescision, recall, f1= test(global_model, test_loader)\n",
        "    losses_test.append(test_loss)\n",
        "    acc_test.append(acc)\n",
        "    print('%d-th round' % r)\n",
        "    print('average train loss %0.3g | test loss %0.3g | test acc: %0.3f | test prescision: %0.3f | test recall: %0.3f | test f1: %0.3f' % (loss / num_selected, test_loss, acc, prescision, recall, f1))\n",
        "\n",
        "print(\"--- %s seconds ---\" % (time.time() - start_time))\n",
        "# time[24]['fed'] = (time.time() - start_time)"
      ],
      "execution_count": null,
      "outputs": []
    },
    {
      "cell_type": "code",
      "metadata": {
        "id": "St7nfNkogMAy"
      },
      "source": [
        "print(len(fed_acc))\n",
        "print(len(fed_pre))\n",
        "print(len(fed_recall))\n",
        "print(len(fed_f1))\n",
        "# print(mp)\n",
        "# print(len(mp))"
      ],
      "execution_count": null,
      "outputs": []
    },
    {
      "cell_type": "code",
      "metadata": {
        "id": "RRdHFm9i2ogS"
      },
      "source": [
        "mp[num_selected] = {'fed_acc': fed_acc, 'fed_pre': fed_pre, 'fed_recall': fed_recall, 'fed_f1': fed_f1}\n",
        "print(mp)\n",
        "print(len(mp))"
      ],
      "execution_count": null,
      "outputs": []
    },
    {
      "cell_type": "code",
      "metadata": {
        "id": "1MjJF3d6EwyP"
      },
      "source": [
        ""
      ],
      "execution_count": null,
      "outputs": []
    },
    {
      "cell_type": "markdown",
      "metadata": {
        "id": "RtdMQSJ-7E88"
      },
      "source": [
        "# Regular Learning"
      ]
    },
    {
      "cell_type": "code",
      "metadata": {
        "id": "dJU5w95et22x"
      },
      "source": [
        "reg_acc, reg_pre, reg_recall, reg_f1 = list(), list(), list(), list()"
      ],
      "execution_count": null,
      "outputs": []
    },
    {
      "cell_type": "code",
      "metadata": {
        "id": "BVfLxS3Cbb0K"
      },
      "source": [
        "# train the model\n",
        "def train_model(train_dl, model, epochs):\n",
        "    # define the optimization\n",
        "    criterion = BCELoss()\n",
        "    optimizer = SGD(model.parameters(), lr=0.01, momentum=0.9)\n",
        "    # enumerate epochs\n",
        "    for epoch in range(epochs):\n",
        "        # enumerate mini batches\n",
        "        for i, (inputs, targets) in enumerate(train_dl):\n",
        "            # clear the gradients\n",
        "            optimizer.zero_grad()\n",
        "            # compute the model output\n",
        "            yhat = model(inputs)\n",
        "            # calculate loss\n",
        "            targets = targets.unsqueeze(1)\n",
        "            targets = targets.float()\n",
        "            loss = criterion(yhat, targets)\n",
        "            # credit assignment\n",
        "            loss.backward()\n",
        "            # update model weights\n",
        "            optimizer.step()\n",
        "        acc, prescision, recall, f1 = evaluate_model(test_loader, model)\n",
        "        reg_acc.append(acc)\n",
        "        reg_pre.append(prescision)\n",
        "        reg_recall.append(recall)\n",
        "        reg_f1.append(f1)"
      ],
      "execution_count": null,
      "outputs": []
    },
    {
      "cell_type": "code",
      "metadata": {
        "id": "pQQUa3tmb_k6"
      },
      "source": [
        "# evaluate the model\n",
        "\n",
        "def evaluate_model(test_dl, model):\n",
        "    predictions, actuals = list(), list()\n",
        "    for i, (inputs, targets) in enumerate(test_dl):\n",
        "        # evaluate the model on the test set\n",
        "        yhat = model(inputs)\n",
        "        # retrieve numpy array\n",
        "        yhat = yhat.detach().numpy()\n",
        "        actual = targets.numpy()\n",
        "        actual = actual.reshape((len(actual), 1))\n",
        "        # round to class values\n",
        "        yhat = yhat.round()\n",
        "        # store\n",
        "        predictions.append(yhat)\n",
        "        actuals.append(actual)\n",
        "    predictions, actuals = vstack(predictions), vstack(actuals)\n",
        "    # calculate accuracy\n",
        "    acc = accuracy_score(actuals, predictions)\n",
        "    prescision = precision_score(actuals, predictions)\n",
        "    recall = recall_score(actuals, predictions)\n",
        "    f1 = f1_score(actuals, predictions)\n",
        "    return acc, prescision, recall, f1"
      ],
      "execution_count": null,
      "outputs": []
    },
    {
      "cell_type": "code",
      "metadata": {
        "id": "NVxFnlKN3dLA"
      },
      "source": [
        "# make a class prediction for one row of data\n",
        "def predict(row, model):\n",
        "    # convert row to data\n",
        "    row = Tensor([row])\n",
        "    # make prediction\n",
        "    yhat = model(row)\n",
        "    # retrieve numpy array\n",
        "    yhat = yhat.detach().numpy()\n",
        "    return yhat"
      ],
      "execution_count": null,
      "outputs": []
    },
    {
      "cell_type": "code",
      "metadata": {
        "id": "z_dLb8xxdTPQ"
      },
      "source": [
        "traindata = PeopleDataset('/content/drive/MyDrive/Credit Card Fraud Detection Dataset/creditcard_train_SMOTE_1.csv')\n",
        "print(len(traindata))\n",
        "\n",
        "train_loader = torch.utils.data.DataLoader(traindata, batch_size=batch_size, shuffle=True)\n",
        "rounds = 50\n",
        "# for i in range(1,rounds):\n",
        "model = MLPUpdated()\n",
        "# train the model\n",
        "train_model(train_loader, model, rounds)\n",
        "# evaluate the model\n",
        "acc, prescision, recall, f1 = evaluate_model(test_loader, model)\n",
        "print('Accuracy: %.3f' % acc)\n",
        "print('Prescision: %.3f' % prescision)\n",
        "print('Recall: %.3f' % recall)\n",
        "print('F1-Score: %.3f' % f1)\n"
      ],
      "execution_count": null,
      "outputs": []
    },
    {
      "cell_type": "code",
      "metadata": {
        "id": "C5Pm58-cqt-r"
      },
      "source": [
        "print(len(reg_acc))\n",
        "print(len(reg_pre))\n",
        "print(len(reg_recall))\n",
        "print(len(reg_f1))\n",
        "\n",
        "mp[0] = {'reg_acc': reg_acc, 'reg_pre': reg_pre, 'reg_recall': reg_recall, 'reg_f1': reg_f1}\n",
        "print(mp)\n",
        "print(len(mp[0]['reg_acc']))\n"
      ],
      "execution_count": null,
      "outputs": []
    },
    {
      "cell_type": "markdown",
      "metadata": {
        "id": "IAkwkmAoNgYW"
      },
      "source": [
        "# Split Learning\n",
        "\n"
      ]
    },
    {
      "cell_type": "code",
      "metadata": {
        "id": "F9qSrtrfNmXG"
      },
      "source": [
        "num_clients = 32\n",
        "num_selected = 16\n",
        "num_rounds = 50\n",
        "epochs = 5\n",
        "batch_size = 1024\n",
        "device = \"cpu\"\n",
        "device = torch.device(device)\n",
        "split_acc, split_pre, split_recall, split_f1 = list(), list(), list(), list()"
      ],
      "execution_count": null,
      "outputs": []
    },
    {
      "cell_type": "code",
      "metadata": {
        "id": "756FmOTxNmXK"
      },
      "source": [
        "# Dividing the training data into num_clients, with each client having equal number of data\n",
        "traindata = PeopleDataset('/content/drive/MyDrive/Credit Card Fraud Detection Dataset/creditcard_train_SMOTE_1.csv')\n",
        "print(len(traindata))\n",
        "traindata_split = torch.utils.data.random_split(traindata, [int(len(traindata) / num_clients) for _ in range(num_clients)])\n",
        "train_loader = [torch.utils.data.DataLoader(x, batch_size=batch_size, shuffle=True) for x in traindata_split]\n",
        "\n",
        "test_file = '/content/drive/MyDrive/Credit Card Fraud Detection Dataset/creditcard_test.csv'\n",
        "test_ds = PeopleDataset(test_file)\n",
        "test_loader = T.utils.data.DataLoader(test_ds,batch_size=batch_size, shuffle=True)"
      ],
      "execution_count": null,
      "outputs": []
    },
    {
      "cell_type": "code",
      "metadata": {
        "id": "upU7-4q_NmXP"
      },
      "source": [
        "class SplitNN(torch.nn.Module):\n",
        "    def __init__(self, models, optimizers):\n",
        "        self.models = models\n",
        "        self.optimizers = optimizers\n",
        "        self.outputs = [None]*len(self.models)\n",
        "        self.inputs = [None]*len(self.models)\n",
        "        super().__init__()\n",
        "        \n",
        "    def forward(self, x):\n",
        "        self.inputs[0] = x\n",
        "        self.outputs[0] = self.models[0](self.inputs[0])\n",
        "        self.inputs[1] = self.outputs[0].detach().requires_grad_()\n",
        "        self.inputs[1] = self.inputs[1].requires_grad_()               \n",
        "        self.outputs[1] = self.models[1](self.inputs[1])\n",
        "        \n",
        "        return self.outputs[-1]\n",
        "    \n",
        "    def backward(self):\n",
        "        grad_in = self.inputs[1].grad\n",
        "        self.outputs[0].backward(grad_in)\n",
        "\n",
        "\n",
        "    def zero_grads(self):\n",
        "        for opt in self.optimizers:\n",
        "            opt.zero_grad()\n",
        "        \n",
        "    def step(self):\n",
        "        for opt in self.optimizers:\n",
        "            opt.step()\n",
        "    \n",
        "    def train(self):\n",
        "        for model in self.models:\n",
        "            model.train()\n",
        "    \n",
        "    def eval(self):\n",
        "        for model in self.models:\n",
        "            model.eval()\n",
        "            \n",
        "    @property\n",
        "    def location(self):\n",
        "        return self.models[0].location if self.models and len(self.models) else None"
      ],
      "execution_count": null,
      "outputs": []
    },
    {
      "cell_type": "code",
      "metadata": {
        "id": "1AHEhQFJNmXS"
      },
      "source": [
        "batch_size = 1024\n",
        "device = \"cpu\"\n",
        "\n",
        "\n",
        "\n",
        "torch.manual_seed(0)  # Define our model segments\n",
        "input_size = 30\n",
        "hidden_sizes = [32, 16, 8]\n",
        "output_size = 1\n",
        "models = [\n",
        "    nn.Sequential(\n",
        "                nn.Linear(input_size, hidden_sizes[0]),\n",
        "                nn.ReLU(),\n",
        "                nn.Dropout(0.2),\n",
        "                nn.Linear(hidden_sizes[0], hidden_sizes[1]),\n",
        "                nn.ReLU(),\n",
        "                nn.Dropout(0.1),\n",
        "    ),\n",
        "    nn.Sequential(\n",
        "                nn.Linear(hidden_sizes[1], hidden_sizes[2]),\n",
        "                nn.ReLU(),\n",
        "                nn.Linear(hidden_sizes[2], output_size),\n",
        "                nn.Sigmoid()\n",
        "    )\n",
        "]\n",
        "# Create optimisers for each segment and link to them\n",
        "optimizers = [\n",
        "    optim.SGD(model.parameters(), lr=0.01,)\n",
        "    for model in models\n",
        "]\n",
        "\n",
        "\n",
        "# Server Model\n",
        "server_model = models[1]\n",
        "# print(server_model)\n",
        "\n",
        "\n",
        "client_models = []\n",
        "for i in range(num_selected):\n",
        "    model = models[0]\n",
        "    client_models.append(model)\n",
        "\n",
        "print(len(client_models))"
      ],
      "execution_count": null,
      "outputs": []
    },
    {
      "cell_type": "code",
      "metadata": {
        "id": "x8xJxdhUNmXV"
      },
      "source": [
        "opt = [optim.SGD(model.parameters(), lr=0.01) for model in client_models]\n",
        "server_opt = optim.SGD(server_model.parameters(), lr=0.01)"
      ],
      "execution_count": null,
      "outputs": []
    },
    {
      "cell_type": "code",
      "metadata": {
        "id": "Z836LV6SNmXW"
      },
      "source": [
        "def client_update(splitNN, train_loader, epoch=5):\n",
        "    \"\"\"\n",
        "    This function updates/trains client model on client data\n",
        "    \"\"\"\n",
        "    splitNN.train()\n",
        "    for e in range(epoch):\n",
        "        print(e)\n",
        "        loss_fin = 0 \n",
        "        for batch_idx, (data, target) in enumerate(train_loader):\n",
        "            data = data.view(data.shape[0], -1)\n",
        "            #1) Zero our grads\n",
        "            splitNN.zero_grads()\n",
        "            \n",
        "            #2) Make a prediction\n",
        "            pred = splitNN.forward(data)\n",
        "          \n",
        "            #3) Figure out how much we missed by\n",
        "            binary_loss = torch.nn.BCEWithLogitsLoss()\n",
        "            target = target.unsqueeze(1)\n",
        "            target = target.float()\n",
        "\n",
        "            \n",
        "            loss = binary_loss(pred, target)\n",
        "            \n",
        "            #4) Backprop the loss on the end layer\n",
        "            loss.backward()\n",
        "            \n",
        "            #5) Feed Gradients backward through the nework\n",
        "            splitNN.backward()\n",
        "            \n",
        "            #6) Change the weights\n",
        "            splitNN.step()\n",
        "\n",
        "            # return loss.item()\n",
        "            loss_fin += loss\n",
        "        server_dict = splitNN.models[1].state_dict()\n",
        "        return loss_fin, server_dict"
      ],
      "execution_count": null,
      "outputs": []
    },
    {
      "cell_type": "code",
      "metadata": {
        "id": "9t1xzm4esPsD"
      },
      "source": [
        "def test(splitNN, dataloader, dataset_name):\n",
        "    splitNN.eval()\n",
        "    correct = 0\n",
        "    test_loss = 0\n",
        "    predictions = list()\n",
        "    actuals = list()\n",
        "    with torch.no_grad():\n",
        "        for data, target in dataloader:\n",
        "            data = data.view(data.shape[0], -1)\n",
        "            output = splitNN.forward(data)\n",
        "            pred = output.argmax(1, keepdim=True)\n",
        "            correct += pred.eq(target.data.view_as(pred)).sum().item()\n",
        "            target = target.unsqueeze(1)\n",
        "            target = target.float()\n",
        "            actual = target.numpy()\n",
        "            actuals.append(actual)\n",
        "            pr = output.numpy()\n",
        "            pr = pr.round()\n",
        "            predictions.append(pr)\n",
        "    predictions, actuals = vstack(predictions), vstack(actuals)\n",
        "    acc = accuracy_score(actuals, predictions)\n",
        "    prescision = precision_score(actuals, predictions)\n",
        "    recall = recall_score(actuals, predictions)\n",
        "    f1 = f1_score(actuals, predictions)\n",
        "    split_acc.append(acc)\n",
        "    split_pre.append(prescision)\n",
        "    split_recall.append(recall)\n",
        "    split_f1.append(f1)\n",
        "\n",
        "    \n",
        "\n",
        "    print(\"{}: Accuracy {}/{} ({:.2f}%)\".format(dataset_name, \n",
        "                                                correct,\n",
        "                                                len(dataloader.dataset), \n",
        "                                                100. * correct / len(dataloader.dataset)))\n",
        "    \n",
        "\n",
        "    "
      ],
      "execution_count": null,
      "outputs": []
    },
    {
      "cell_type": "code",
      "metadata": {
        "id": "JIX9Uwzo9_ig"
      },
      "source": [
        "print(len(split_acc))\n",
        "print(len(split_pre))\n",
        "print(len(split_recall))\n",
        "print(len(split_f1))"
      ],
      "execution_count": null,
      "outputs": []
    },
    {
      "cell_type": "code",
      "metadata": {
        "id": "W6l3qKghNmXY"
      },
      "source": [
        "###### List containing info about learning #########\n",
        "losses_train = []\n",
        "losses_test = []\n",
        "acc_train = []\n",
        "acc_test = []\n",
        "# Runnining FL\n",
        "\n",
        "num_rounds = 50\n",
        "import time\n",
        "start_time = time.time()\n",
        "for r in range(num_rounds):\n",
        "    # select random clients\n",
        "    client_idx = np.random.permutation(num_clients)[:num_selected]\n",
        "    # client update\n",
        "    loss = 0\n",
        "    epochs = 5\n",
        "    for i in tqdm(range(num_selected)):\n",
        "        print(\"Client Number: \", i)\n",
        "        splitNN = SplitNN([client_models[i], server_model], [opt[i],server_opt ])\n",
        "        temp_loss, server_dict = client_update(splitNN, train_loader[client_idx[i]], epoch=epochs)\n",
        "        loss += temp_loss\n",
        "        server_model.load_state_dict(server_dict)\n",
        "    \n",
        "    losses_train.append(loss)\n",
        "    \n",
        "    # Test on the last client\n",
        "    test(splitNN, test_loader, \"Test Data\")\n",
        "    print('%d-th round' % r)\n",
        "print(\"--- %s seconds ---\" % (time.time() - start_time))"
      ],
      "execution_count": null,
      "outputs": []
    },
    {
      "cell_type": "code",
      "metadata": {
        "id": "kIR2zVf8214t"
      },
      "source": [
        "print(len(split_acc))\n",
        "print(len(split_pre))\n",
        "print(len(split_recall))\n",
        "print(len(split_f1))"
      ],
      "execution_count": null,
      "outputs": []
    },
    {
      "cell_type": "code",
      "metadata": {
        "id": "vbCmbJWH9eUG"
      },
      "source": [
        "mp[num_selected]['split_acc'] = split_acc\n",
        "mp[num_selected]['split_pre'] = split_pre\n",
        "mp[num_selected]['split_recall'] = split_recall\n",
        "mp[num_selected]['split_f1'] = splf1acc\n",
        "print(mp)\n",
        "print(len(mp))"
      ],
      "execution_count": null,
      "outputs": []
    },
    {
      "cell_type": "markdown",
      "metadata": {
        "id": "NhrJP3nDQFAi"
      },
      "source": [
        "# Graphs"
      ]
    },
    {
      "cell_type": "markdown",
      "metadata": {
        "id": "Hv29cPfGa3yn"
      },
      "source": [
        "###Separate graphs for each dataset split "
      ]
    },
    {
      "cell_type": "code",
      "metadata": {
        "id": "uwLhz34VQNiE"
      },
      "source": [
        "import json\n",
        "\n",
        "# To write the results in json file\n",
        "data = mp\n",
        "# Number of Dataset Split\n",
        "i = 32\n",
        "a_file = open(str(i)+\"_results.json\", \"w\")\n",
        "a_file = json.dump(data, a_file)\n",
        "\n",
        "# To read the results in json file\n",
        "a_file = open(str(i)+\"_results.json\", \"r\")\n",
        "a_dictionary = json.load(a_file)\n",
        "\n",
        "mp = a_dictionary\n",
        "print((a_dictionary.keys()))\n",
        "print((len(a_dictionary['6']['fed_acc'])))\n",
        "print((len(a_dictionary['6']['split_acc'])))\n",
        "print((len(a_dictionary['0']['reg_acc'])))\n"
      ],
      "execution_count": null,
      "outputs": []
    },
    {
      "cell_type": "code",
      "metadata": {
        "id": "mtfijG3BaFxA"
      },
      "source": [
        "# To read the results in json file\n",
        "\n",
        "# Number of Dataset Split\n",
        "i = 32\n",
        "a_file = open(str(i)+\"_results.json\", \"r\")\n",
        "a_dictionary = json.load(a_file)\n",
        "\n",
        "mp = a_dictionary"
      ],
      "execution_count": null,
      "outputs": []
    },
    {
      "cell_type": "code",
      "metadata": {
        "id": "7xKfUufvQNiG"
      },
      "source": [
        "import seaborn as sns\n",
        "import matplotlib.pyplot as plt\n",
        "x = [i for i in range(1,51)]\n",
        "\n",
        "print(\"Number of Rounds: \", 50)\n",
        "\n",
        "fig, axs = plt.subplots(2,2)\n",
        "fig.set_size_inches(25.5, 10.5)\n",
        "\n",
        "\n",
        "sns.lineplot(x,mp['3']['fed_acc'], ax=axs[0][0], legend='brief', label=\"3 Clients\")\n",
        "sns.lineplot(x,mp['6']['fed_acc'], ax=axs[0][0], legend='brief', label=\"6 Clients\")\n",
        "sns.lineplot(x,mp['10']['fed_acc'], ax=axs[0][0], legend='brief', label=\"10 Clients\")\n",
        "sns.lineplot(x,mp['16']['fed_acc'], ax=axs[0][0], legend='brief', label=\"16 Clients\")\n",
        "axs[0][0].set(xlabel=\"Rounds\", ylabel = \"Accuracy\")\n",
        "\n",
        "sns.lineplot(x,mp['3']['fed_pre'], ax=axs[0][1], legend='brief', label=\"3 Clients\")\n",
        "sns.lineplot(x,mp['6']['fed_pre'], ax=axs[0][1], legend='brief', label=\"6 Clients\")\n",
        "sns.lineplot(x,mp['10']['fed_pre'], ax=axs[0][1], legend='brief', label=\"10 Clients\")\n",
        "sns.lineplot(x,mp['16']['fed_pre'], ax=axs[0][1], legend='brief', label=\"16 Clients\")\n",
        "axs[0][1].set(xlabel=\"Rounds\", ylabel = \"Precision\")\n",
        "\n",
        "sns.lineplot(x,mp['3']['fed_recall'], ax=axs[1][0], legend='brief', label=\"3 Clients\")\n",
        "sns.lineplot(x,mp['6']['fed_recall'], ax=axs[1][0], legend='brief', label=\"6 Clients\")\n",
        "sns.lineplot(x,mp['10']['fed_recall'], ax=axs[1][0], legend='brief', label=\"10 Clients\")\n",
        "sns.lineplot(x,mp['16']['fed_recall'], ax=axs[1][0], legend='brief', label=\"16 Clients\")\n",
        "axs[1][0].set(xlabel=\"Rounds\", ylabel = \"Recall\")\n",
        "\n",
        "sns.lineplot(x,mp['3']['fed_f1'], ax=axs[1][1], legend='brief', label=\"3 Clients\")\n",
        "sns.lineplot(x,mp['6']['fed_f1'], ax=axs[1][1], legend='brief', label=\"6 Clients\")\n",
        "sns.lineplot(x,mp['10']['fed_f1'], ax=axs[1][1], legend='brief', label=\"10 Clients\")\n",
        "sns.lineplot(x,mp['16']['fed_f1'], ax=axs[1][1], legend='brief', label=\"16 Clients\")\n",
        "axs[1][1].set(xlabel=\"Rounds\", ylabel = \"F1-Score\")\n"
      ],
      "execution_count": null,
      "outputs": []
    },
    {
      "cell_type": "code",
      "metadata": {
        "id": "M3w2eBk8QNiI"
      },
      "source": [
        "fig, axs = plt.subplots(2,2)\n",
        "fig.set_size_inches(25.5, 10.5)\n",
        "\n",
        "sns.lineplot(x,mp['3']['split_acc'], ax=axs[0][0], legend='brief', label=\"3 Clients\")\n",
        "sns.lineplot(x,mp['6']['split_acc'], ax=axs[0][0], legend='brief', label=\"6 Clients\")\n",
        "sns.lineplot(x,mp['10']['split_acc'], ax=axs[0][0], legend='brief', label=\"10 Clients\")\n",
        "sns.lineplot(x,mp['16']['split_acc'], ax=axs[0][0], legend='brief', label=\"16 Clients\")\n",
        "axs[0][0].set(xlabel=\"Rounds\", ylabel = \"Accuracy\")\n",
        "\n",
        "sns.lineplot(x,mp['3']['split_pre'], ax=axs[0][1], legend='brief', label=\"3 Clients\")\n",
        "sns.lineplot(x,mp['6']['split_pre'], ax=axs[0][1], legend='brief', label=\"6 Clients\")\n",
        "sns.lineplot(x,mp['10']['split_pre'], ax=axs[0][1], legend='brief', label=\"10 Clients\")\n",
        "sns.lineplot(x,mp['16']['split_pre'], ax=axs[0][1], legend='brief', label=\"16 Clients\")\n",
        "axs[0][1].set(xlabel=\"Rounds\", ylabel = \"Precision\")\n",
        "\n",
        "sns.lineplot(x,mp['3']['split_recall'], ax=axs[1][0], legend='brief', label=\"3 Clients\")\n",
        "sns.lineplot(x,mp['6']['split_recall'], ax=axs[1][0], legend='brief', label=\"6 Clients\")\n",
        "sns.lineplot(x,mp['10']['split_recall'], ax=axs[1][0], legend='brief', label=\"10 Clients\")\n",
        "sns.lineplot(x,mp['16']['split_recall'], ax=axs[1][0], legend='brief', label=\"16 Clients\")\n",
        "axs[1][0].set(xlabel=\"Rounds\", ylabel = \"Recall\")\n",
        "\n",
        "sns.lineplot(x,mp['3']['split_f1'], ax=axs[1][1], legend='brief', label=\"3 Clients\")\n",
        "sns.lineplot(x,mp['6']['split_f1'], ax=axs[1][1], legend='brief', label=\"6 Clients\")\n",
        "sns.lineplot(x,mp['10']['split_f1'], ax=axs[1][1], legend='brief', label=\"10 Clients\")\n",
        "sns.lineplot(x,mp['16']['split_f1'], ax=axs[1][1], legend='brief', label=\"16 Clients\")\n",
        "axs[1][1].set(xlabel=\"Rounds\", ylabel = \"F1-Score\")\n"
      ],
      "execution_count": null,
      "outputs": []
    },
    {
      "cell_type": "code",
      "metadata": {
        "id": "c7ORrSoiQNiJ"
      },
      "source": [
        "import seaborn as sns\n",
        "import matplotlib.pyplot as plt\n",
        "\n",
        "fig, axs = plt.subplots(2,2)\n",
        "fig.set_size_inches(25.5, 10.5)\n",
        "\n",
        "x = range(1,51)\n",
        "\n",
        "sns.lineplot(x,mp['0']['reg_acc'], ax=axs[0][0])\n",
        "sns.lineplot(x,mp['0']['reg_pre'], ax=axs[0][1])\n",
        "sns.lineplot(x,mp['0']['reg_recall'], ax=axs[1][0])\n",
        "sns.lineplot(x,mp['0']['reg_f1'], ax=axs[1][1])\n",
        "\n",
        "axs[0][0].set(xlabel=\"Rounds\", ylabel = \"Accuracy\")\n",
        "axs[0][1].set(xlabel=\"Rounds\", ylabel = \"Precision\")\n",
        "axs[1][0].set(xlabel=\"Rounds\", ylabel = \"Recall\")\n",
        "axs[1][1].set(xlabel=\"Rounds\", ylabel = \"F1-Score\")\n",
        "\n"
      ],
      "execution_count": null,
      "outputs": []
    },
    {
      "cell_type": "code",
      "metadata": {
        "id": "NVZx2FPLQNiK"
      },
      "source": [
        "import seaborn as sns\n",
        "import matplotlib.pyplot as plt\n",
        "x = [i for i in range(1,51)]\n",
        "y = [4,5,6]\n",
        "\n",
        "\n",
        "print(\"Number of Clients: \", 3)\n",
        "print(\"Number of Rounds: \", 50)\n",
        "\n",
        "fig, axs = plt.subplots(2,2)\n",
        "fig.set_size_inches(25.5, 10.5)\n",
        "\n",
        "\n",
        "sns.lineplot(x,mp['3']['fed_acc'], ax=axs[0][0], legend='brief', label=\"Federated Learning\")\n",
        "sns.lineplot(x,mp['0']['reg_acc'], ax=axs[0][0], legend='brief', label=\"Regula Learning\")\n",
        "sns.lineplot(x,mp['3']['split_acc'], ax=axs[0][0], legend='brief', label=\"Split Learning\")\n",
        "axs[0][0].set(xlabel=\"Rounds (3 Bank Clients)\", ylabel = \"Accuracy\")\n",
        "\n",
        "\n",
        "sns.lineplot(x,mp['6']['fed_acc'], ax=axs[0][1], legend='brief', label=\"Federated Learning\")\n",
        "sns.lineplot(x,mp['0']['reg_acc'], ax=axs[0][1], legend='brief', label=\"Regula Learning\")\n",
        "sns.lineplot(x,mp['6']['split_acc'], ax=axs[0][1], legend='brief', label=\"Split Learning\")\n",
        "axs[0][1].set(xlabel=\"Rounds (6 Bank Clients)\", ylabel = \"Accuracy\")\n",
        "\n",
        "sns.lineplot(x,mp['10']['fed_acc'], ax=axs[1][0], legend='brief', label=\"Federated Learning\")\n",
        "sns.lineplot(x,mp['0']['reg_acc'], ax=axs[1][0], legend='brief', label=\"Regula Learning\")\n",
        "sns.lineplot(x,mp['10']['split_acc'], ax=axs[1][0], legend='brief', label=\"Split Learning\")\n",
        "axs[1][0].set(xlabel=\"Rounds (10 Bank Clients)\", ylabel = \"Accuracy\")\n",
        "\n",
        "sns.lineplot(x,mp['16']['fed_acc'], ax=axs[1][1], legend='brief', label=\"Federated Learning\")\n",
        "sns.lineplot(x,mp['0']['reg_acc'], ax=axs[1][1], legend='brief', label=\"Regula Learning\")\n",
        "sns.lineplot(x,mp['16']['split_acc'], ax=axs[1][1], legend='brief', label=\"Split Learning\")\n",
        "axs[1][1].set(xlabel=\"Rounds (16 Bank Clients)\", ylabel = \"Accuracy\")\n",
        "\n"
      ],
      "execution_count": null,
      "outputs": []
    },
    {
      "cell_type": "code",
      "metadata": {
        "id": "E2E2RKNaQNiN"
      },
      "source": [
        "import seaborn as sns\n",
        "import matplotlib.pyplot as plt\n",
        "x = [i for i in range(1,51)]\n",
        "y = [4,5,6]\n",
        "\n",
        "# fed_acc, fed_pre, fed_recall, fed_f1 = list(), list(), list(), list()\n",
        "# reg_acc, reg_pre, reg_recall, reg_f1 = list(), list(), list(), list()\n",
        "# split_acc, split_pre, split_recall, split_f1 = list(), list(), list(), list()\n",
        "\n",
        "print(\"Number of Clients: \", 3)\n",
        "print(\"Number of Rounds: \", 50)\n",
        "\n",
        "fig, axs = plt.subplots(2,2)\n",
        "fig.set_size_inches(25.5, 10.5)\n",
        "\n",
        "\n",
        "sns.lineplot(x,mp['3']['fed_pre'], ax=axs[0][0], legend='brief', label=\"Federated Learning\")\n",
        "sns.lineplot(x,mp['0']['reg_pre'], ax=axs[0][0], legend='brief', label=\"Regula Learning\")\n",
        "sns.lineplot(x,mp['3']['split_pre'], ax=axs[0][0], legend='brief', label=\"Split Learning\")\n",
        "axs[0][0].set(xlabel=\"Rounds (3 Bank Clients)\", ylabel = \"Precision\")\n",
        "\n",
        "\n",
        "sns.lineplot(x,mp['6']['fed_pre'], ax=axs[0][1], legend='brief', label=\"Federated Learning\")\n",
        "sns.lineplot(x,mp['0']['reg_pre'], ax=axs[0][1], legend='brief', label=\"Regula Learning\")\n",
        "sns.lineplot(x,mp['6']['split_pre'], ax=axs[0][1], legend='brief', label=\"Split Learning\")\n",
        "axs[0][1].set(xlabel=\"Rounds (6 Bank Clients)\", ylabel = \"Precision\")\n",
        "\n",
        "sns.lineplot(x,mp['10']['fed_pre'], ax=axs[1][0], legend='brief', label=\"Federated Learning\")\n",
        "sns.lineplot(x,mp['0']['reg_pre'], ax=axs[1][0], legend='brief', label=\"Regula Learning\")\n",
        "sns.lineplot(x,mp['10']['split_pre'], ax=axs[1][0], legend='brief', label=\"Split Learning\")\n",
        "axs[1][0].set(xlabel=\"Rounds (10 Bank Clients)\", ylabel = \"Precision\")\n",
        "\n",
        "sns.lineplot(x,mp['16']['fed_pre'], ax=axs[1][1], legend='brief', label=\"Federated Learning\")\n",
        "sns.lineplot(x,mp['0']['reg_pre'], ax=axs[1][1], legend='brief', label=\"Regula Learning\")\n",
        "sns.lineplot(x,mp['16']['split_pre'], ax=axs[1][1], legend='brief', label=\"Split Learning\")\n",
        "axs[1][1].set(xlabel=\"Rounds (16 Bank Clients)\", ylabel = \"Precision\")\n"
      ],
      "execution_count": null,
      "outputs": []
    },
    {
      "cell_type": "code",
      "metadata": {
        "id": "F1aADk2HQNiO"
      },
      "source": [
        "import seaborn as sns\n",
        "import matplotlib.pyplot as plt\n",
        "x = [i for i in range(1,51)]\n",
        "y = [4,5,6]\n",
        "\n",
        "# fed_acc, fed_pre, fed_recall, fed_f1 = list(), list(), list(), list()\n",
        "# reg_acc, reg_pre, reg_recall, reg_f1 = list(), list(), list(), list()\n",
        "# split_acc, split_pre, split_recall, split_f1 = list(), list(), list(), list()\n",
        "\n",
        "print(\"Number of Clients: \", 3)\n",
        "print(\"Number of Rounds: \", 50)\n",
        "\n",
        "fig, axs = plt.subplots(2,2)\n",
        "fig.set_size_inches(25.5, 10.5)\n",
        "\n",
        "\n",
        "sns.lineplot(x,mp['3']['fed_recall'], ax=axs[0][0], legend='brief', label=\"Federated Learning\")\n",
        "sns.lineplot(x,mp['0']['reg_recall'], ax=axs[0][0], legend='brief', label=\"Regula Learning\")\n",
        "sns.lineplot(x,mp['3']['split_recall'], ax=axs[0][0], legend='brief', label=\"Split Learning\")\n",
        "axs[0][0].set(xlabel=\"Rounds (3 Bank Clients)\", ylabel = \"Recall\")\n",
        "\n",
        "\n",
        "sns.lineplot(x,mp['6']['fed_recall'], ax=axs[0][1], legend='brief', label=\"Federated Learning\")\n",
        "sns.lineplot(x,mp['0']['reg_recall'], ax=axs[0][1], legend='brief', label=\"Regula Learning\")\n",
        "sns.lineplot(x,mp['6']['split_recall'], ax=axs[0][1], legend='brief', label=\"Split Learning\")\n",
        "axs[0][1].set(xlabel=\"Rounds (6 Bank Clients)\", ylabel = \"Recall\")\n",
        "\n",
        "sns.lineplot(x,mp['10']['fed_recall'], ax=axs[1][0], legend='brief', label=\"Federated Learning\")\n",
        "sns.lineplot(x,mp['0']['reg_recall'], ax=axs[1][0], legend='brief', label=\"Regula Learning\")\n",
        "sns.lineplot(x,mp['10']['split_recall'], ax=axs[1][0], legend='brief', label=\"Split Learning\")\n",
        "axs[1][0].set(xlabel=\"Rounds (10 Bank Clients)\", ylabel = \"Recall\")\n",
        "\n",
        "sns.lineplot(x,mp['16']['fed_recall'], ax=axs[1][1], legend='brief', label=\"Federated Learning\")\n",
        "sns.lineplot(x,mp['0']['reg_recall'], ax=axs[1][1], legend='brief', label=\"Regula Learning\")\n",
        "sns.lineplot(x,mp['16']['split_recall'], ax=axs[1][1], legend='brief', label=\"Split Learning\")\n",
        "axs[1][1].set(xlabel=\"Rounds (16 Bank Clients)\", ylabel = \"Recall\")"
      ],
      "execution_count": null,
      "outputs": []
    },
    {
      "cell_type": "code",
      "metadata": {
        "id": "11FJqSurQNiP"
      },
      "source": [
        "import seaborn as sns\n",
        "import matplotlib.pyplot as plt\n",
        "x = [i for i in range(1,51)]\n",
        "\n",
        "print(\"Number of Rounds: \", 50)\n",
        "\n",
        "fig, axs = plt.subplots(2,2)\n",
        "fig.set_size_inches(25.5, 10.5)\n",
        "\n",
        "\n",
        "sns.lineplot(x,mp['3']['fed_f1'], ax=axs[0][0], legend='brief', label=\"Federated Learning\")\n",
        "sns.lineplot(x,mp['0']['reg_f1'], ax=axs[0][0], legend='brief', label=\"Regula Learning\")\n",
        "sns.lineplot(x,mp['3']['split_f1'], ax=axs[0][0], legend='brief', label=\"Split Learning\")\n",
        "axs[0][0].set(xlabel=\"Rounds (3 Bank Clients)\", ylabel = \"F1-score\")\n",
        "\n",
        "\n",
        "sns.lineplot(x,mp['6']['fed_f1'], ax=axs[0][1], legend='brief', label=\"Federated Learning\")\n",
        "sns.lineplot(x,mp['0']['reg_f1'], ax=axs[0][1], legend='brief', label=\"Regula Learning\")\n",
        "sns.lineplot(x,mp['6']['split_f1'], ax=axs[0][1], legend='brief', label=\"Split Learning\")\n",
        "axs[0][1].set(xlabel=\"Rounds (6 Bank Clients)\", ylabel = \"F1-score\")\n",
        "\n",
        "sns.lineplot(x,mp['10']['fed_f1'], ax=axs[1][0], legend='brief', label=\"Federated Learning\")\n",
        "sns.lineplot(x,mp['0']['reg_f1'], ax=axs[1][0], legend='brief', label=\"Regula Learning\")\n",
        "sns.lineplot(x,mp['10']['split_f1'], ax=axs[1][0], legend='brief', label=\"Split Learning\")\n",
        "axs[1][0].set(xlabel=\"Rounds (10 Bank Clients)\", ylabel = \"F1-score\")\n",
        "\n",
        "sns.lineplot(x,mp['16']['fed_f1'], ax=axs[1][1], legend='brief', label=\"Federated Learning\")\n",
        "sns.lineplot(x,mp['0']['reg_f1'], ax=axs[1][1], legend='brief', label=\"Regula Learning\")\n",
        "sns.lineplot(x,mp['16']['split_f1'], ax=axs[1][1], legend='brief', label=\"Split Learning\")\n",
        "axs[1][1].set(xlabel=\"Rounds (16 Bank Clients)\", ylabel = \"F1-score\")"
      ],
      "execution_count": null,
      "outputs": []
    },
    {
      "cell_type": "markdown",
      "metadata": {
        "id": "wY97SnBRaZFx"
      },
      "source": [
        "### **Graphs for combined results**"
      ]
    },
    {
      "cell_type": "code",
      "metadata": {
        "id": "BCoebrdrQNiQ"
      },
      "source": [
        "# Map which will store all the results\n",
        "x = {}"
      ],
      "execution_count": null,
      "outputs": []
    },
    {
      "cell_type": "code",
      "metadata": {
        "id": "-1gktwN4QNiQ"
      },
      "source": [
        "import json\n",
        "x = {}\n",
        "a = ['12', '16', '24', '32']\n",
        "\n",
        "for i in a:\n",
        "  a_file = open(str(i)+\"_results.json\", \"r\")\n",
        "  a_dictionary = json.load(a_file)\n",
        "\n",
        "  mp = a_dictionary\n",
        "  print((mp.keys()))\n",
        "  x[int(i)] = mp\n",
        "  print(x.keys())"
      ],
      "execution_count": null,
      "outputs": []
    },
    {
      "cell_type": "code",
      "metadata": {
        "id": "AHWoaIcqQNiR"
      },
      "source": [
        "mp = x\n",
        "print(mp.keys())\n",
        "print(len(mp[12]['3']['fed_acc']))\n",
        "print((mp[12].keys()))"
      ],
      "execution_count": null,
      "outputs": []
    },
    {
      "cell_type": "code",
      "metadata": {
        "id": "XTCOVYkUQNiR"
      },
      "source": [
        "import seaborn as sns\n",
        "import matplotlib.pyplot as plt\n",
        "x = [i for i in range(1,51)]\n",
        "\n",
        "print(\"Number of Rounds: \", 50)\n",
        "\n",
        "fig, axs = plt.subplots(2,2)\n",
        "fig.set_size_inches(25.5, 10.5)\n",
        "\n",
        "sns.lineplot(x,mp[12]['3']['fed_acc'], ax=axs[0][0], legend='brief', label=\"Federated(12)\")\n",
        "sns.lineplot(x,mp[12]['0']['reg_acc'], ax=axs[0][0], legend='brief', label=\"Regular Learning\")\n",
        "sns.lineplot(x,mp[12]['3']['split_acc'], ax=axs[0][0], legend='brief', label=\"Split(12)\")\n",
        "sns.lineplot(x,mp[16]['3']['fed_acc'], ax=axs[0][0], legend='brief', label=\"Federated(16)\")\n",
        "sns.lineplot(x,mp[16]['3']['split_acc'], ax=axs[0][0], legend='brief', label=\"Split(16)\")\n",
        "sns.lineplot(x,mp[24]['3']['fed_acc'], ax=axs[0][0], legend='brief', label=\"Federated(24)\")\n",
        "sns.lineplot(x,mp[24]['3']['split_acc'], ax=axs[0][0], legend='brief', label=\"Split(24)\")\n",
        "sns.lineplot(x,mp[32]['3']['fed_acc'], ax=axs[0][0], legend='brief', label=\"Federated(32)\")\n",
        "sns.lineplot(x,mp[32]['3']['split_acc'], ax=axs[0][0], legend='brief', label=\"Split(32)\")\n",
        "axs[0][0].set(xlabel=\"Rounds (3 Bank Clients)\", ylabel = \"Accuracy\")\n",
        "\n",
        "sns.lineplot(x,mp[12]['6']['fed_acc'], ax=axs[0][1], legend='brief', label=\"Federated(12)\")\n",
        "sns.lineplot(x,mp[12]['0']['reg_acc'], ax=axs[0][1], legend='brief', label=\"Regular Learning\")\n",
        "sns.lineplot(x,mp[12]['6']['split_acc'], ax=axs[0][1], legend='brief', label=\"Split(12)\")\n",
        "sns.lineplot(x,mp[16]['6']['fed_acc'], ax=axs[0][1], legend='brief', label=\"Federated(16)\")\n",
        "sns.lineplot(x,mp[16]['6']['split_acc'], ax=axs[0][1], legend='brief', label=\"Split(16)\")\n",
        "sns.lineplot(x,mp[24]['6']['fed_acc'], ax=axs[0][1], legend='brief', label=\"Federated(24)\")\n",
        "sns.lineplot(x,mp[24]['6']['split_acc'], ax=axs[0][1], legend='brief', label=\"Split(24)\")\n",
        "sns.lineplot(x,mp[32]['6']['fed_acc'], ax=axs[0][1], legend='brief', label=\"Federated(32)\")\n",
        "sns.lineplot(x,mp[32]['6']['split_acc'], ax=axs[0][1], legend='brief', label=\"Split(32)\")\n",
        "axs[0][1].set(xlabel=\"Rounds (6 Bank Clients)\", ylabel = \"Accuracy\")\n",
        "\n",
        "sns.lineplot(x,mp[12]['10']['fed_acc'], ax=axs[1][0], legend='brief', label=\"Federated(12)\")\n",
        "sns.lineplot(x,mp[12]['0']['reg_acc'], ax=axs[1][0], legend='brief', label=\"Regular Learning\")\n",
        "sns.lineplot(x,mp[12]['10']['split_acc'], ax=axs[1][0], legend='brief', label=\"Split(12)\")\n",
        "sns.lineplot(x,mp[16]['10']['fed_acc'], ax=axs[1][0], legend='brief', label=\"Federated(16)\")\n",
        "sns.lineplot(x,mp[16]['10']['split_acc'], ax=axs[1][0], legend='brief', label=\"Split(16)\")\n",
        "sns.lineplot(x,mp[24]['10']['fed_acc'], ax=axs[1][0], legend='brief', label=\"Federated(24)\")\n",
        "sns.lineplot(x,mp[24]['10']['split_acc'], ax=axs[1][0], legend='brief', label=\"Split(24)\")\n",
        "sns.lineplot(x,mp[32]['10']['fed_acc'], ax=axs[1][0], legend='brief', label=\"Federated(32)\")\n",
        "sns.lineplot(x,mp[32]['10']['split_acc'], ax=axs[1][0], legend='brief', label=\"Split(32)\")\n",
        "axs[1][0].set(xlabel=\"Rounds (10 Bank Clients)\", ylabel = \"Accuracy\")\n",
        "\n",
        "sns.lineplot(x,mp[12]['0']['reg_acc'], ax=axs[1][1], legend='brief', label=\"Regular Learning\")\n",
        "sns.lineplot(x,mp[16]['16']['fed_acc'], ax=axs[1][1], legend='brief', label=\"Federated(16)\")\n",
        "sns.lineplot(x,mp[16]['16']['split_acc'], ax=axs[1][1], legend='brief', label=\"Split(16)\")\n",
        "sns.lineplot(x,mp[24]['16']['fed_acc'], ax=axs[1][1], legend='brief', label=\"Federated(24)\")\n",
        "sns.lineplot(x,mp[24]['16']['split_acc'], ax=axs[1][1], legend='brief', label=\"Split(24)\")\n",
        "sns.lineplot(x,mp[32]['16']['fed_acc'], ax=axs[1][1], legend='brief', label=\"Federated(32)\")\n",
        "sns.lineplot(x,mp[32]['16']['split_acc'], ax=axs[1][1], legend='brief', label=\"Split(32)\")\n",
        "axs[1][1].set(xlabel=\"Rounds (16 Bank Clients)\", ylabel = \"Accuracy\")\n",
        "\n"
      ],
      "execution_count": null,
      "outputs": []
    },
    {
      "cell_type": "code",
      "metadata": {
        "id": "M6wvwPskQNiS"
      },
      "source": [
        "import seaborn as sns\n",
        "import matplotlib.pyplot as plt\n",
        "x = [i for i in range(1,51)]\n",
        "y = [4,5,6]\n",
        "\n",
        "# fed_acc, fed_pre, fed_recall, fed_f1 = list(), list(), list(), list()\n",
        "# reg_acc, reg_pre, reg_recall, reg_f1 = list(), list(), list(), list()\n",
        "# split_acc, split_pre, split_recall, split_f1 = list(), list(), list(), list()\n",
        "\n",
        "print(\"Number of Clients: \", 3)\n",
        "print(\"Number of Rounds: \", 50)\n",
        "\n",
        "fig, axs = plt.subplots(2,2)\n",
        "fig.set_size_inches(25.5, 10.5)\n",
        "\n",
        "sns.lineplot(x,mp[12]['3']['fed_pre'], ax=axs[0][0], legend='brief', label=\"Federated(12)\")\n",
        "sns.lineplot(x,mp[12]['0']['reg_pre'], ax=axs[0][0], legend='brief', label=\"Regular Learning\")\n",
        "sns.lineplot(x,mp[12]['3']['split_pre'], ax=axs[0][0], legend='brief', label=\"Split(12)\")\n",
        "sns.lineplot(x,mp[16]['3']['fed_pre'], ax=axs[0][0], legend='brief', label=\"Federated(16)\")\n",
        "sns.lineplot(x,mp[16]['3']['split_pre'], ax=axs[0][0], legend='brief', label=\"Split(16)\")\n",
        "sns.lineplot(x,mp[24]['3']['fed_pre'], ax=axs[0][0], legend='brief', label=\"Federated(24)\")\n",
        "sns.lineplot(x,mp[24]['3']['split_pre'], ax=axs[0][0], legend='brief', label=\"Split(24)\")\n",
        "sns.lineplot(x,mp[32]['3']['fed_pre'], ax=axs[0][0], legend='brief', label=\"Federated(32)\")\n",
        "sns.lineplot(x,mp[32]['3']['split_pre'], ax=axs[0][0], legend='brief', label=\"Split(32)\")\n",
        "axs[0][0].set(xlabel=\"Rounds (3 Bank Clients)\", ylabel = \"Precision\")\n",
        "\n",
        "sns.lineplot(x,mp[12]['6']['fed_pre'], ax=axs[0][1], legend='brief', label=\"Federated(12)\")\n",
        "sns.lineplot(x,mp[12]['0']['reg_pre'], ax=axs[0][1], legend='brief', label=\"Regular Learning\")\n",
        "sns.lineplot(x,mp[12]['6']['split_pre'], ax=axs[0][1], legend='brief', label=\"Split(12)\")\n",
        "sns.lineplot(x,mp[16]['6']['fed_pre'], ax=axs[0][1], legend='brief', label=\"Federated(16)\")\n",
        "sns.lineplot(x,mp[16]['6']['split_pre'], ax=axs[0][1], legend='brief', label=\"Split(16)\")\n",
        "sns.lineplot(x,mp[24]['6']['fed_pre'], ax=axs[0][1], legend='brief', label=\"Federated(24)\")\n",
        "sns.lineplot(x,mp[24]['6']['split_pre'], ax=axs[0][1], legend='brief', label=\"Split(24)\")\n",
        "sns.lineplot(x,mp[32]['6']['fed_pre'], ax=axs[0][1], legend='brief', label=\"Federated(32)\")\n",
        "sns.lineplot(x,mp[32]['6']['split_pre'], ax=axs[0][1], legend='brief', label=\"Split(32)\")\n",
        "axs[0][1].set(xlabel=\"Rounds (6 Bank Clients)\", ylabel = \"Precision\")\n",
        "\n",
        "sns.lineplot(x,mp[12]['10']['fed_pre'], ax=axs[1][0], legend='brief', label=\"Federated(12)\")\n",
        "sns.lineplot(x,mp[12]['0']['reg_pre'], ax=axs[1][0], legend='brief', label=\"Regular Learning\")\n",
        "sns.lineplot(x,mp[12]['10']['split_pre'], ax=axs[1][0], legend='brief', label=\"Split(12)\")\n",
        "sns.lineplot(x,mp[16]['10']['fed_pre'], ax=axs[1][0], legend='brief', label=\"Federated(16)\")\n",
        "sns.lineplot(x,mp[16]['10']['split_pre'], ax=axs[1][0], legend='brief', label=\"Split(16)\")\n",
        "sns.lineplot(x,mp[24]['10']['fed_pre'], ax=axs[1][0], legend='brief', label=\"Federated(24)\")\n",
        "sns.lineplot(x,mp[24]['10']['split_pre'], ax=axs[1][0], legend='brief', label=\"Split(24)\")\n",
        "sns.lineplot(x,mp[32]['10']['fed_pre'], ax=axs[1][0], legend='brief', label=\"Federated(32)\")\n",
        "sns.lineplot(x,mp[32]['10']['split_pre'], ax=axs[1][0], legend='brief', label=\"Split(32)\")\n",
        "axs[1][0].set(xlabel=\"Rounds (10 Bank Clients)\", ylabel = \"Precision\")\n",
        "\n",
        "sns.lineplot(x,mp[12]['0']['reg_pre'], ax=axs[1][1], legend='brief', label=\"Regular Learning\")\n",
        "sns.lineplot(x,mp[16]['16']['fed_pre'], ax=axs[1][1], legend='brief', label=\"Federated(16)\")\n",
        "sns.lineplot(x,mp[16]['16']['split_pre'], ax=axs[1][1], legend='brief', label=\"Split(16)\")\n",
        "sns.lineplot(x,mp[24]['16']['fed_pre'], ax=axs[1][1], legend='brief', label=\"Federated(24)\")\n",
        "sns.lineplot(x,mp[24]['16']['split_pre'], ax=axs[1][1], legend='brief', label=\"Split(24)\")\n",
        "sns.lineplot(x,mp[32]['16']['fed_pre'], ax=axs[1][1], legend='brief', label=\"Federated(32)\")\n",
        "sns.lineplot(x,mp[32]['16']['split_pre'], ax=axs[1][1], legend='brief', label=\"Split(32)\")\n",
        "axs[1][1].set(xlabel=\"Rounds (16 Bank Clients)\", ylabel = \"Precision\")\n"
      ],
      "execution_count": null,
      "outputs": []
    },
    {
      "cell_type": "code",
      "metadata": {
        "id": "o_xx-xs9QNiT"
      },
      "source": [
        "import seaborn as sns\n",
        "import matplotlib.pyplot as plt\n",
        "x = [i for i in range(1,51)]\n",
        "y = [4,5,6]\n",
        "\n",
        "# fed_acc, fed_pre, fed_recall, fed_f1 = list(), list(), list(), list()\n",
        "# reg_acc, reg_pre, reg_recall, reg_f1 = list(), list(), list(), list()\n",
        "# split_acc, split_pre, split_recall, split_f1 = list(), list(), list(), list()\n",
        "\n",
        "print(\"Number of Clients: \", 3)\n",
        "print(\"Number of Rounds: \", 50)\n",
        "\n",
        "fig, axs = plt.subplots(2,2)\n",
        "fig.set_size_inches(25.5, 10.5)\n",
        "\n",
        "sns.lineplot(x,mp[12]['3']['fed_recall'], ax=axs[0][0], legend='brief', label=\"Federated(12)\")\n",
        "sns.lineplot(x,mp[12]['0']['reg_recall'], ax=axs[0][0], legend='brief', label=\"Regular Learning\")\n",
        "sns.lineplot(x,mp[12]['3']['split_recall'], ax=axs[0][0], legend='brief', label=\"Split(12)\")\n",
        "sns.lineplot(x,mp[16]['3']['fed_recall'], ax=axs[0][0], legend='brief', label=\"Federated(16)\")\n",
        "sns.lineplot(x,mp[16]['3']['split_recall'], ax=axs[0][0], legend='brief', label=\"Split(16)\")\n",
        "sns.lineplot(x,mp[24]['3']['fed_recall'], ax=axs[0][0], legend='brief', label=\"Federated(24)\")\n",
        "sns.lineplot(x,mp[24]['3']['split_recall'], ax=axs[0][0], legend='brief', label=\"Split(24)\")\n",
        "sns.lineplot(x,mp[32]['3']['fed_recall'], ax=axs[0][0], legend='brief', label=\"Federated(32)\")\n",
        "sns.lineplot(x,mp[32]['3']['split_recall'], ax=axs[0][0], legend='brief', label=\"Split(32)\")\n",
        "axs[0][0].set(xlabel=\"Rounds (3 Bank Clients)\", ylabel = \"Recall\")\n",
        "\n",
        "sns.lineplot(x,mp[12]['6']['fed_recall'], ax=axs[0][1], legend='brief', label=\"Federated(12)\")\n",
        "sns.lineplot(x,mp[12]['0']['reg_recall'], ax=axs[0][1], legend='brief', label=\"Regular Learning\")\n",
        "sns.lineplot(x,mp[12]['6']['split_recall'], ax=axs[0][1], legend='brief', label=\"Split(12)\")\n",
        "sns.lineplot(x,mp[16]['6']['fed_recall'], ax=axs[0][1], legend='brief', label=\"Federated(16)\")\n",
        "sns.lineplot(x,mp[16]['6']['split_recall'], ax=axs[0][1], legend='brief', label=\"Split(16)\")\n",
        "sns.lineplot(x,mp[24]['6']['fed_recall'], ax=axs[0][1], legend='brief', label=\"Federated(24)\")\n",
        "sns.lineplot(x,mp[24]['6']['split_recall'], ax=axs[0][1], legend='brief', label=\"Split(24)\")\n",
        "sns.lineplot(x,mp[32]['6']['fed_recall'], ax=axs[0][1], legend='brief', label=\"Federated(32)\")\n",
        "sns.lineplot(x,mp[32]['6']['split_recall'], ax=axs[0][1], legend='brief', label=\"Split(32)\")\n",
        "axs[0][1].set(xlabel=\"Rounds (6 Bank Clients)\", ylabel = \"Recall\")\n",
        "\n",
        "sns.lineplot(x,mp[12]['10']['fed_recall'], ax=axs[1][0], legend='brief', label=\"Federated(12)\")\n",
        "sns.lineplot(x,mp[12]['0']['reg_recall'], ax=axs[1][0], legend='brief', label=\"Regular Learning\")\n",
        "sns.lineplot(x,mp[12]['10']['split_recall'], ax=axs[1][0], legend='brief', label=\"Split(12)\")\n",
        "sns.lineplot(x,mp[16]['10']['fed_recall'], ax=axs[1][0], legend='brief', label=\"Federated(16)\")\n",
        "sns.lineplot(x,mp[16]['10']['split_recall'], ax=axs[1][0], legend='brief', label=\"Split(16)\")\n",
        "sns.lineplot(x,mp[24]['10']['fed_recall'], ax=axs[1][0], legend='brief', label=\"Federated(24)\")\n",
        "sns.lineplot(x,mp[24]['10']['split_recall'], ax=axs[1][0], legend='brief', label=\"Split(24)\")\n",
        "sns.lineplot(x,mp[32]['10']['fed_recall'], ax=axs[1][0], legend='brief', label=\"Federated(32)\")\n",
        "sns.lineplot(x,mp[32]['10']['split_recall'], ax=axs[1][0], legend='brief', label=\"Split(32)\")\n",
        "axs[1][0].set(xlabel=\"Rounds (10 Bank Clients)\", ylabel = \"Recall\")\n",
        "\n",
        "sns.lineplot(x,mp[12]['0']['reg_recall'], ax=axs[1][1], legend='brief', label=\"Regular Learning\")\n",
        "sns.lineplot(x,mp[16]['16']['fed_recall'], ax=axs[1][1], legend='brief', label=\"Federated(16)\")\n",
        "sns.lineplot(x,mp[16]['16']['split_recall'], ax=axs[1][1], legend='brief', label=\"Split(16)\")\n",
        "sns.lineplot(x,mp[24]['16']['fed_recall'], ax=axs[1][1], legend='brief', label=\"Federated(24)\")\n",
        "sns.lineplot(x,mp[24]['16']['split_recall'], ax=axs[1][1], legend='brief', label=\"Split(24)\")\n",
        "sns.lineplot(x,mp[32]['16']['fed_recall'], ax=axs[1][1], legend='brief', label=\"Federated(32)\")\n",
        "sns.lineplot(x,mp[32]['16']['split_recall'], ax=axs[1][1], legend='brief', label=\"Split(32)\")\n",
        "axs[1][1].set(xlabel=\"Rounds (16 Bank Clients)\", ylabel = \"Recall\")"
      ],
      "execution_count": null,
      "outputs": []
    },
    {
      "cell_type": "code",
      "metadata": {
        "id": "oiP7K9b3QNiT"
      },
      "source": [
        "import seaborn as sns\n",
        "import matplotlib.pyplot as plt\n",
        "x = [i for i in range(1,51)]\n",
        "y = [4,5,6]\n",
        "\n",
        "\n",
        "\n",
        "print(\"Number of Clients: \", 3)\n",
        "print(\"Number of Rounds: \", 50)\n",
        "\n",
        "fig, axs = plt.subplots(2,2)\n",
        "fig.set_size_inches(25.5, 10.5)\n",
        "\n",
        "sns.lineplot(x,mp[12]['3']['fed_f1'], ax=axs[0][0], legend='brief', label=\"Federated(12)\")\n",
        "sns.lineplot(x,mp[12]['0']['reg_f1'], ax=axs[0][0], legend='brief', label=\"Regular Learning\")\n",
        "sns.lineplot(x,mp[12]['3']['split_f1'], ax=axs[0][0], legend='brief', label=\"Split(12)\")\n",
        "sns.lineplot(x,mp[16]['3']['fed_f1'], ax=axs[0][0], legend='brief', label=\"Federated(16)\")\n",
        "sns.lineplot(x,mp[16]['3']['split_f1'], ax=axs[0][0], legend='brief', label=\"Split(16)\")\n",
        "sns.lineplot(x,mp[24]['3']['fed_f1'], ax=axs[0][0], legend='brief', label=\"Federated(24)\")\n",
        "sns.lineplot(x,mp[24]['3']['split_f1'], ax=axs[0][0], legend='brief', label=\"Split(24)\")\n",
        "sns.lineplot(x,mp[32]['3']['fed_f1'], ax=axs[0][0], legend='brief', label=\"Federated(32)\")\n",
        "sns.lineplot(x,mp[32]['3']['split_f1'], ax=axs[0][0], legend='brief', label=\"Split(32)\")\n",
        "axs[0][0].set(xlabel=\"Rounds (3 Bank Clients)\", ylabel = \"F1-Score\")\n",
        "\n",
        "sns.lineplot(x,mp[12]['6']['fed_f1'], ax=axs[0][1], legend='brief', label=\"Federated(12)\")\n",
        "sns.lineplot(x,mp[12]['0']['reg_f1'], ax=axs[0][1], legend='brief', label=\"Regular Learning\")\n",
        "sns.lineplot(x,mp[12]['6']['split_f1'], ax=axs[0][1], legend='brief', label=\"Split(12)\")\n",
        "sns.lineplot(x,mp[16]['6']['fed_f1'], ax=axs[0][1], legend='brief', label=\"Federated(16)\")\n",
        "sns.lineplot(x,mp[16]['6']['split_f1'], ax=axs[0][1], legend='brief', label=\"Split(16)\")\n",
        "sns.lineplot(x,mp[24]['6']['fed_f1'], ax=axs[0][1], legend='brief', label=\"Federated(24)\")\n",
        "sns.lineplot(x,mp[24]['6']['split_f1'], ax=axs[0][1], legend='brief', label=\"Split(24)\")\n",
        "sns.lineplot(x,mp[32]['6']['fed_f1'], ax=axs[0][1], legend='brief', label=\"Federated(32)\")\n",
        "sns.lineplot(x,mp[32]['6']['split_f1'], ax=axs[0][1], legend='brief', label=\"Split(32)\")\n",
        "axs[0][1].set(xlabel=\"Rounds (6 Bank Clients)\", ylabel = \"F1-Score\")\n",
        "\n",
        "sns.lineplot(x,mp[12]['10']['fed_f1'], ax=axs[1][0], legend='brief', label=\"Federated(12)\")\n",
        "sns.lineplot(x,mp[12]['0']['reg_f1'], ax=axs[1][0], legend='brief', label=\"Regular Learning\")\n",
        "sns.lineplot(x,mp[12]['10']['split_f1'], ax=axs[1][0], legend='brief', label=\"Split(12)\")\n",
        "sns.lineplot(x,mp[16]['10']['fed_f1'], ax=axs[1][0], legend='brief', label=\"Federated(16)\")\n",
        "sns.lineplot(x,mp[16]['10']['split_f1'], ax=axs[1][0], legend='brief', label=\"Split(16)\")\n",
        "sns.lineplot(x,mp[24]['10']['fed_f1'], ax=axs[1][0], legend='brief', label=\"Federated(24)\")\n",
        "sns.lineplot(x,mp[24]['10']['split_f1'], ax=axs[1][0], legend='brief', label=\"Split(24)\")\n",
        "sns.lineplot(x,mp[32]['10']['fed_f1'], ax=axs[1][0], legend='brief', label=\"Federated(32)\")\n",
        "sns.lineplot(x,mp[32]['10']['split_f1'], ax=axs[1][0], legend='brief', label=\"Split(32)\")\n",
        "axs[1][0].set(xlabel=\"Rounds (10 Bank Clients)\", ylabel = \"F1-Score\")\n",
        "\n",
        "sns.lineplot(x,mp[12]['0']['reg_f1'], ax=axs[1][1], legend='brief', label=\"Regular Learning\")\n",
        "sns.lineplot(x,mp[16]['16']['fed_f1'], ax=axs[1][1], legend='brief', label=\"Federated(16)\")\n",
        "sns.lineplot(x,mp[16]['16']['split_f1'], ax=axs[1][1], legend='brief', label=\"Split(16)\")\n",
        "sns.lineplot(x,mp[24]['16']['fed_f1'], ax=axs[1][1], legend='brief', label=\"Federated(24)\")\n",
        "sns.lineplot(x,mp[24]['16']['split_f1'], ax=axs[1][1], legend='brief', label=\"Split(24)\")\n",
        "sns.lineplot(x,mp[32]['16']['fed_f1'], ax=axs[1][1], legend='brief', label=\"Federated(32)\")\n",
        "sns.lineplot(x,mp[32]['16']['split_f1'], ax=axs[1][1], legend='brief', label=\"Split(32)\")\n",
        "axs[1][1].set(xlabel=\"Rounds (16 Bank Clients)\", ylabel = \"F1-Score\")"
      ],
      "execution_count": null,
      "outputs": []
    }
  ]
}