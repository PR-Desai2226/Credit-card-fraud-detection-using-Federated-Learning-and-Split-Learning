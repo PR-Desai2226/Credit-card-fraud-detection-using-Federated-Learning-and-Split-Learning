{
 "cells": [
  {
   "cell_type": "code",
   "execution_count": 18,
   "id": "6958256f",
   "metadata": {},
   "outputs": [],
   "source": [
    "import pandas  as pd\n",
    "import matplotlib.pyplot as plt\n",
    "import numpy as np\n",
    "import seaborn as sb\n",
    "\n",
    "%matplotlib inline"
   ]
  },
  {
   "cell_type": "code",
   "execution_count": 19,
   "id": "9d025c89",
   "metadata": {},
   "outputs": [
    {
     "data": {
      "text/html": [
       "<div>\n",
       "<style scoped>\n",
       "    .dataframe tbody tr th:only-of-type {\n",
       "        vertical-align: middle;\n",
       "    }\n",
       "\n",
       "    .dataframe tbody tr th {\n",
       "        vertical-align: top;\n",
       "    }\n",
       "\n",
       "    .dataframe thead th {\n",
       "        text-align: right;\n",
       "    }\n",
       "</style>\n",
       "<table border=\"1\" class=\"dataframe\">\n",
       "  <thead>\n",
       "    <tr style=\"text-align: right;\">\n",
       "      <th></th>\n",
       "      <th>Unnamed: 0</th>\n",
       "      <th>scaled_amount</th>\n",
       "      <th>scaled_time</th>\n",
       "      <th>V1</th>\n",
       "      <th>V2</th>\n",
       "      <th>V3</th>\n",
       "      <th>V4</th>\n",
       "      <th>V5</th>\n",
       "      <th>V6</th>\n",
       "      <th>V7</th>\n",
       "      <th>...</th>\n",
       "      <th>V20</th>\n",
       "      <th>V21</th>\n",
       "      <th>V22</th>\n",
       "      <th>V23</th>\n",
       "      <th>V24</th>\n",
       "      <th>V25</th>\n",
       "      <th>V26</th>\n",
       "      <th>V27</th>\n",
       "      <th>V28</th>\n",
       "      <th>Class</th>\n",
       "    </tr>\n",
       "  </thead>\n",
       "  <tbody>\n",
       "    <tr>\n",
       "      <th>0</th>\n",
       "      <td>83548</td>\n",
       "      <td>-0.244673</td>\n",
       "      <td>-0.291134</td>\n",
       "      <td>-5.815400</td>\n",
       "      <td>-2.542417</td>\n",
       "      <td>-0.644472</td>\n",
       "      <td>0.625949</td>\n",
       "      <td>2.238756</td>\n",
       "      <td>-1.270332</td>\n",
       "      <td>-0.016385</td>\n",
       "      <td>...</td>\n",
       "      <td>-3.024207</td>\n",
       "      <td>-1.816265</td>\n",
       "      <td>-0.318061</td>\n",
       "      <td>2.940325</td>\n",
       "      <td>-0.993230</td>\n",
       "      <td>1.210458</td>\n",
       "      <td>0.426390</td>\n",
       "      <td>2.208567</td>\n",
       "      <td>-0.956596</td>\n",
       "      <td>0.0</td>\n",
       "    </tr>\n",
       "    <tr>\n",
       "      <th>1</th>\n",
       "      <td>232924</td>\n",
       "      <td>-0.279746</td>\n",
       "      <td>0.736369</td>\n",
       "      <td>2.085292</td>\n",
       "      <td>0.122583</td>\n",
       "      <td>-1.777613</td>\n",
       "      <td>0.385266</td>\n",
       "      <td>0.453063</td>\n",
       "      <td>-0.801902</td>\n",
       "      <td>0.153460</td>\n",
       "      <td>...</td>\n",
       "      <td>-0.177902</td>\n",
       "      <td>-0.379694</td>\n",
       "      <td>-1.008647</td>\n",
       "      <td>0.325436</td>\n",
       "      <td>0.367197</td>\n",
       "      <td>-0.251827</td>\n",
       "      <td>0.182760</td>\n",
       "      <td>-0.065744</td>\n",
       "      <td>-0.032919</td>\n",
       "      <td>0.0</td>\n",
       "    </tr>\n",
       "    <tr>\n",
       "      <th>2</th>\n",
       "      <td>254627</td>\n",
       "      <td>-0.028645</td>\n",
       "      <td>0.847461</td>\n",
       "      <td>2.122316</td>\n",
       "      <td>-0.962503</td>\n",
       "      <td>-2.525940</td>\n",
       "      <td>-1.676110</td>\n",
       "      <td>1.626630</td>\n",
       "      <td>3.408812</td>\n",
       "      <td>-1.529461</td>\n",
       "      <td>...</td>\n",
       "      <td>0.112909</td>\n",
       "      <td>0.238221</td>\n",
       "      <td>0.661569</td>\n",
       "      <td>0.142103</td>\n",
       "      <td>0.604128</td>\n",
       "      <td>-0.112563</td>\n",
       "      <td>-0.067314</td>\n",
       "      <td>0.048173</td>\n",
       "      <td>-0.017584</td>\n",
       "      <td>0.0</td>\n",
       "    </tr>\n",
       "    <tr>\n",
       "      <th>3</th>\n",
       "      <td>49484</td>\n",
       "      <td>3.684762</td>\n",
       "      <td>-0.477073</td>\n",
       "      <td>-0.547367</td>\n",
       "      <td>-1.240848</td>\n",
       "      <td>0.039306</td>\n",
       "      <td>-2.613958</td>\n",
       "      <td>0.476080</td>\n",
       "      <td>4.030809</td>\n",
       "      <td>-0.098471</td>\n",
       "      <td>...</td>\n",
       "      <td>0.576737</td>\n",
       "      <td>-0.172700</td>\n",
       "      <td>-0.795684</td>\n",
       "      <td>0.615092</td>\n",
       "      <td>0.918412</td>\n",
       "      <td>-0.061868</td>\n",
       "      <td>-0.324071</td>\n",
       "      <td>0.046531</td>\n",
       "      <td>0.131785</td>\n",
       "      <td>0.0</td>\n",
       "    </tr>\n",
       "    <tr>\n",
       "      <th>4</th>\n",
       "      <td>43982</td>\n",
       "      <td>-0.097813</td>\n",
       "      <td>-0.504752</td>\n",
       "      <td>-0.171879</td>\n",
       "      <td>-0.229433</td>\n",
       "      <td>0.877708</td>\n",
       "      <td>-2.033562</td>\n",
       "      <td>-0.370525</td>\n",
       "      <td>0.662273</td>\n",
       "      <td>-0.512095</td>\n",
       "      <td>...</td>\n",
       "      <td>-0.244155</td>\n",
       "      <td>-0.060867</td>\n",
       "      <td>0.181646</td>\n",
       "      <td>-0.128371</td>\n",
       "      <td>-1.153934</td>\n",
       "      <td>-0.519082</td>\n",
       "      <td>-0.152173</td>\n",
       "      <td>-0.056434</td>\n",
       "      <td>0.131185</td>\n",
       "      <td>0.0</td>\n",
       "    </tr>\n",
       "  </tbody>\n",
       "</table>\n",
       "<p>5 rows × 32 columns</p>\n",
       "</div>"
      ],
      "text/plain": [
       "   Unnamed: 0  scaled_amount  scaled_time        V1        V2        V3  \\\n",
       "0       83548      -0.244673    -0.291134 -5.815400 -2.542417 -0.644472   \n",
       "1      232924      -0.279746     0.736369  2.085292  0.122583 -1.777613   \n",
       "2      254627      -0.028645     0.847461  2.122316 -0.962503 -2.525940   \n",
       "3       49484       3.684762    -0.477073 -0.547367 -1.240848  0.039306   \n",
       "4       43982      -0.097813    -0.504752 -0.171879 -0.229433  0.877708   \n",
       "\n",
       "         V4        V5        V6        V7  ...       V20       V21       V22  \\\n",
       "0  0.625949  2.238756 -1.270332 -0.016385  ... -3.024207 -1.816265 -0.318061   \n",
       "1  0.385266  0.453063 -0.801902  0.153460  ... -0.177902 -0.379694 -1.008647   \n",
       "2 -1.676110  1.626630  3.408812 -1.529461  ...  0.112909  0.238221  0.661569   \n",
       "3 -2.613958  0.476080  4.030809 -0.098471  ...  0.576737 -0.172700 -0.795684   \n",
       "4 -2.033562 -0.370525  0.662273 -0.512095  ... -0.244155 -0.060867  0.181646   \n",
       "\n",
       "        V23       V24       V25       V26       V27       V28  Class  \n",
       "0  2.940325 -0.993230  1.210458  0.426390  2.208567 -0.956596    0.0  \n",
       "1  0.325436  0.367197 -0.251827  0.182760 -0.065744 -0.032919    0.0  \n",
       "2  0.142103  0.604128 -0.112563 -0.067314  0.048173 -0.017584    0.0  \n",
       "3  0.615092  0.918412 -0.061868 -0.324071  0.046531  0.131785    0.0  \n",
       "4 -0.128371 -1.153934 -0.519082 -0.152173 -0.056434  0.131185    0.0  \n",
       "\n",
       "[5 rows x 32 columns]"
      ]
     },
     "execution_count": 19,
     "metadata": {},
     "output_type": "execute_result"
    }
   ],
   "source": [
    "data = pd.read_csv(r'C:\\Users\\ASUS\\Desktop\\Research Internship\\Fraud Detection\\FL1\\data\\creditcard_train.csv')\n",
    "data.head()"
   ]
  },
  {
   "cell_type": "code",
   "execution_count": 20,
   "id": "0ab356b3",
   "metadata": {},
   "outputs": [
    {
     "data": {
      "text/plain": [
       "0.0    255888\n",
       "1.0       438\n",
       "Name: Class, dtype: int64"
      ]
     },
     "execution_count": 20,
     "metadata": {},
     "output_type": "execute_result"
    },
    {
     "data": {
      "image/png": "[encoded data removed]",
      "text/plain": [
       "<Figure size 432x288 with 1 Axes>"
      ]
     },
     "metadata": {
      "needs_background": "light"
     },
     "output_type": "display_data"
    }
   ],
   "source": [
    "pd.value_counts(data['Class']).plot.bar()\n",
    "plt.title('Fraud Detecttion histogram')\n",
    "plt.xlabel('Class')\n",
    "plt.ylabel('Frequency')\n",
    "data['Class'].value_counts()"
   ]
  },
  {
   "cell_type": "code",
   "execution_count": 21,
   "id": "a6662c06",
   "metadata": {},
   "outputs": [
    {
     "name": "stdout",
     "output_type": "stream",
     "text": [
      "Shape of X: (256326, 31)\n",
      "Shape of y: (256326, 1)\n"
     ]
    }
   ],
   "source": [
    "X = np.array(data.loc[:, data.columns != 'Class'])\n",
    "y = np.array(data.loc[:, data.columns == 'Class'])\n",
    "print('Shape of X: {}'.format(X.shape))\n",
    "print('Shape of y: {}'.format(y.shape))"
   ]
  },
  {
   "cell_type": "code",
   "execution_count": 29,
   "id": "6134e82e",
   "metadata": {},
   "outputs": [
    {
     "name": "stdout",
     "output_type": "stream",
     "text": [
      "Number transactions X_train dataset:  (192244, 31)\n",
      "Number transactions y_train dataset:  (192244, 1)\n",
      "Number transactions X_test dataset:  (64082, 31)\n",
      "Number transactions y_test dataset:  (64082, 1)\n"
     ]
    }
   ],
   "source": [
    "from imblearn.over_sampling import SMOTE\n",
    "\n",
    "from sklearn.model_selection import train_test_split\n",
    "\n",
    "X_train, X_test, y_train, y_test = train_test_split(X, y, test_size = 0.25, random_state=0)\n",
    "\n",
    "print(\"Number transactions X_train dataset: \", X_train.shape)\n",
    "print(\"Number transactions y_train dataset: \", y_train.shape)\n",
    "print(\"Number transactions X_test dataset: \", X_test.shape)\n",
    "print(\"Number transactions y_test dataset: \", y_test.shape)"
   ]
  },
  {
   "cell_type": "code",
   "execution_count": 30,
   "id": "05795431",
   "metadata": {},
   "outputs": [
    {
     "name": "stdout",
     "output_type": "stream",
     "text": [
      "Before OverSampling, counts of label '1': [340]\n",
      "Before OverSampling, counts of label '0': [191904] \n",
      "\n",
      "After OverSampling, the shape of train_X: (383808, 31)\n",
      "After OverSampling, the shape of train_y: (383808,) \n",
      "\n",
      "After OverSampling, counts of label '1': 191904\n",
      "After OverSampling, counts of label '0': 191904\n"
     ]
    }
   ],
   "source": [
    "print(\"Before OverSampling, counts of label '1': {}\".format(sum(y_train==1)))\n",
    "print(\"Before OverSampling, counts of label '0': {} \\n\".format(sum(y_train==0)))\n",
    "\n",
    "sm = SMOTE(random_state=2)\n",
    "X_train_res, y_train_res = sm.fit_sample(X_train, y_train.ravel())\n",
    "\n",
    "print('After OverSampling, the shape of train_X: {}'.format(X_train_res.shape))\n",
    "print('After OverSampling, the shape of train_y: {} \\n'.format(y_train_res.shape))\n",
    "\n",
    "print(\"After OverSampling, counts of label '1': {}\".format(sum(y_train_res==1)))\n",
    "print(\"After OverSampling, counts of label '0': {}\".format(sum(y_train_res==0)))"
   ]
  },
  {
   "cell_type": "code",
   "execution_count": 16,
   "id": "13b600ed",
   "metadata": {},
   "outputs": [],
   "source": [
    "import numpy as np\n",
    "import pandas as pd\n",
    "\n",
    "y_train_res = y_train_res.reshape(-1, 1) # reshaping y_train to (398038,1)\n",
    "data_res = np.concatenate((X_train_res, y_train_res), axis = 1)\n",
    "np.savetxt('creditcard_train_SMOTE_1.csv', data_res, delimiter=\",\")"
   ]
  },
  {
   "cell_type": "code",
   "execution_count": null,
   "id": "8b05a342",
   "metadata": {},
   "outputs": [],
   "source": []
  },
  {
   "cell_type": "code",
   "execution_count": null,
   "id": "8aa5ec39",
   "metadata": {},
   "outputs": [],
   "source": []
  },
  {
   "cell_type": "code",
   "execution_count": null,
   "id": "fcc52a7b",
   "metadata": {},
   "outputs": [],
   "source": []
  }
 ],
 "metadata": {
  "kernelspec": {
   "display_name": "Python 3",
   "language": "python",
   "name": "python3"
  },
  "language_info": {
   "codemirror_mode": {
    "name": "ipython",
    "version": 3
   },
   "file_extension": ".py",
   "mimetype": "text/x-python",
   "name": "python",
   "nbconvert_exporter": "python",
   "pygments_lexer": "ipython3",
   "version": "3.9.5"
  }
 },
 "nbformat": 4,
 "nbformat_minor": 5
}
